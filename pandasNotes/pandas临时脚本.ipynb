{
 "cells": [
  {
   "cell_type": "markdown",
   "metadata": {},
   "source": [
    "# References\n",
    "1. https://www.5axxw.com/questions/content/v330b7\n",
    "2. https://zhuanlan.zhihu.com/p/100064394"
   ]
  },
  {
   "cell_type": "code",
   "execution_count": 306,
   "metadata": {},
   "outputs": [],
   "source": [
    "import pandas as pd\n",
    "import numpy as np"
   ]
  },
  {
   "cell_type": "code",
   "execution_count": 307,
   "metadata": {},
   "outputs": [],
   "source": [
    "# 实现电影基本数据的统计返回\n",
    "def cal_basic_info(origin_data, show_tag=False):\n",
    "    basic_info = {}  # 声明一个空白的字典类型\n",
    "    movie_rating = origin_data['Rating']\n",
    "    movie_runtime = origin_data['Runtime (Minutes)']\n",
    "    basic_info['min_rating'] = min(movie_rating)\n",
    "    basic_info['max_rating'] = max(movie_rating)\n",
    "    basic_info['min_runtime'] = min(movie_runtime)\n",
    "    basic_info['max_runtime'] = max(movie_runtime)\n",
    "    basic_info['mean_rating'] = movie_rating.mean()\n",
    "    basic_info['mean_runtime'] = movie_runtime.mean()\n",
    "    basic_info['rubbish_movie'] = sum(movie_rating<6)\n",
    "    basic_info['good_movie'] = sum(movie_rating>=8)\n",
    "    # 统计最热的电影类型Genre\n",
    "    if show_tag is True:\n",
    "        print(\"最低评分和最高评分\", min(movie_rating), max(movie_rating))\n",
    "        print(\"最短时间和最长时间\", min(movie_runtime), max(movie_runtime))\n",
    "        print(\"平均评分\", movie_rating.mean())\n",
    "        print(\"平均时长\", movie_runtime.mean(), \"min\")\n",
    "        print('共有{}部烂片'.format(basic_info['rubbish_movie']))\n",
    "        print('也有{}部好片'.format(basic_info['good_movie']))\n",
    "    return basic_info"
   ]
  },
  {
   "cell_type": "code",
   "execution_count": 308,
   "metadata": {},
   "outputs": [
    {
     "name": "stdout",
     "output_type": "stream",
     "text": [
      "   Rank                    Title                    Genre  \\\n",
      "0     1  Guardians of the Galaxy  Action,Adventure,Sci-Fi   \n",
      "\n",
      "                                         Description    Director  \\\n",
      "0  A group of intergalactic criminals are forced ...  James Gunn   \n",
      "\n",
      "                                              Actors  Year  Runtime (Minutes)  \\\n",
      "0  Chris Pratt, Vin Diesel, Bradley Cooper, Zoe S...  2014                121   \n",
      "\n",
      "   Rating   Votes  Revenue (Millions)  Metascore  \n",
      "0     8.1  757074              333.13       76.0  \n",
      "<class 'pandas.core.frame.DataFrame'>\n",
      "RangeIndex: 1000 entries, 0 to 999\n",
      "Data columns (total 12 columns):\n",
      " #   Column              Non-Null Count  Dtype  \n",
      "---  ------              --------------  -----  \n",
      " 0   Rank                1000 non-null   int64  \n",
      " 1   Title               1000 non-null   object \n",
      " 2   Genre               1000 non-null   object \n",
      " 3   Description         1000 non-null   object \n",
      " 4   Director            1000 non-null   object \n",
      " 5   Actors              1000 non-null   object \n",
      " 6   Year                1000 non-null   int64  \n",
      " 7   Runtime (Minutes)   1000 non-null   int64  \n",
      " 8   Rating              1000 non-null   float64\n",
      " 9   Votes               1000 non-null   int64  \n",
      " 10  Revenue (Millions)  872 non-null    float64\n",
      " 11  Metascore           936 non-null    float64\n",
      "dtypes: float64(3), int64(4), object(5)\n",
      "memory usage: 93.9+ KB\n",
      "最低评分和最高评分 1.9 9.0\n",
      "最短时间和最长时间 66 191\n",
      "平均评分 6.723199999999999\n",
      "平均时长 113.172 min\n",
      "共有184部烂片\n",
      "也有78部好片\n"
     ]
    },
    {
     "data": {
      "text/plain": [
       "{'min_rating': 1.9,\n",
       " 'max_rating': 9.0,\n",
       " 'min_runtime': 66,\n",
       " 'max_runtime': 191,\n",
       " 'mean_rating': 6.723199999999999,\n",
       " 'mean_runtime': 113.172,\n",
       " 'rubbish_movie': 184,\n",
       " 'good_movie': 78}"
      ]
     },
     "execution_count": 308,
     "metadata": {},
     "output_type": "execute_result"
    }
   ],
   "source": [
    "file_path = './IMDB-Movie-Data.csv'\n",
    "df = pd.read_csv(file_path)\n",
    "print(df.head(1))  # 打印第一条数据\n",
    "df.info()  # 显示这个数据集的描述信息\n",
    "cal_basic_info(df, show_tag=True)\n",
    "# cal_extra_info(df)"
   ]
  },
  {
   "cell_type": "code",
   "execution_count": 309,
   "metadata": {},
   "outputs": [
    {
     "data": {
      "text/plain": [
       "Index(['Rank', 'Title', 'Genre', 'Description', 'Director', 'Actors', 'Year',\n",
       "       'Runtime (Minutes)', 'Rating', 'Votes', 'Revenue (Millions)',\n",
       "       'Metascore'],\n",
       "      dtype='object')"
      ]
     },
     "execution_count": 309,
     "metadata": {},
     "output_type": "execute_result"
    }
   ],
   "source": [
    "df.columns"
   ]
  },
  {
   "cell_type": "code",
   "execution_count": 310,
   "metadata": {},
   "outputs": [],
   "source": [
    "# mainDF = df[['Title', 'Genre', 'Director', 'Actors', 'Rating', 'Runtime (Minutes)']];\n",
    "# mainDF = mainDF.sort_values(by = 'Rating' ,ascending=True);"
   ]
  },
  {
   "cell_type": "code",
   "execution_count": 311,
   "metadata": {},
   "outputs": [
    {
     "data": {
      "text/html": [
       "<div>\n",
       "<style scoped>\n",
       "    .dataframe tbody tr th:only-of-type {\n",
       "        vertical-align: middle;\n",
       "    }\n",
       "\n",
       "    .dataframe tbody tr th {\n",
       "        vertical-align: top;\n",
       "    }\n",
       "\n",
       "    .dataframe thead th {\n",
       "        text-align: right;\n",
       "    }\n",
       "</style>\n",
       "<table border=\"1\" class=\"dataframe\">\n",
       "  <thead>\n",
       "    <tr style=\"text-align: right;\">\n",
       "      <th></th>\n",
       "      <th>Rank</th>\n",
       "      <th>Title</th>\n",
       "      <th>Genre</th>\n",
       "      <th>Description</th>\n",
       "      <th>Director</th>\n",
       "      <th>Actors</th>\n",
       "      <th>Year</th>\n",
       "      <th>Runtime (Minutes)</th>\n",
       "      <th>Rating</th>\n",
       "      <th>Votes</th>\n",
       "      <th>Revenue (Millions)</th>\n",
       "      <th>Metascore</th>\n",
       "    </tr>\n",
       "  </thead>\n",
       "  <tbody>\n",
       "    <tr>\n",
       "      <th>0</th>\n",
       "      <td>1</td>\n",
       "      <td>Guardians of the Galaxy</td>\n",
       "      <td>Action,Adventure,Sci-Fi</td>\n",
       "      <td>A group of intergalactic criminals are forced ...</td>\n",
       "      <td>James Gunn</td>\n",
       "      <td>Chris Pratt, Vin Diesel, Bradley Cooper, Zoe S...</td>\n",
       "      <td>2014</td>\n",
       "      <td>121</td>\n",
       "      <td>8.1</td>\n",
       "      <td>757074</td>\n",
       "      <td>333.13</td>\n",
       "      <td>76.0</td>\n",
       "    </tr>\n",
       "    <tr>\n",
       "      <th>1</th>\n",
       "      <td>2</td>\n",
       "      <td>Prometheus</td>\n",
       "      <td>Adventure,Mystery,Sci-Fi</td>\n",
       "      <td>Following clues to the origin of mankind, a te...</td>\n",
       "      <td>Ridley Scott</td>\n",
       "      <td>Noomi Rapace, Logan Marshall-Green, Michael Fa...</td>\n",
       "      <td>2012</td>\n",
       "      <td>124</td>\n",
       "      <td>7.0</td>\n",
       "      <td>485820</td>\n",
       "      <td>126.46</td>\n",
       "      <td>65.0</td>\n",
       "    </tr>\n",
       "    <tr>\n",
       "      <th>2</th>\n",
       "      <td>3</td>\n",
       "      <td>Split</td>\n",
       "      <td>Horror,Thriller</td>\n",
       "      <td>Three girls are kidnapped by a man with a diag...</td>\n",
       "      <td>M. Night Shyamalan</td>\n",
       "      <td>James McAvoy, Anya Taylor-Joy, Haley Lu Richar...</td>\n",
       "      <td>2016</td>\n",
       "      <td>117</td>\n",
       "      <td>7.3</td>\n",
       "      <td>157606</td>\n",
       "      <td>138.12</td>\n",
       "      <td>62.0</td>\n",
       "    </tr>\n",
       "    <tr>\n",
       "      <th>3</th>\n",
       "      <td>4</td>\n",
       "      <td>Sing</td>\n",
       "      <td>Animation,Comedy,Family</td>\n",
       "      <td>In a city of humanoid animals, a hustling thea...</td>\n",
       "      <td>Christophe Lourdelet</td>\n",
       "      <td>Matthew McConaughey,Reese Witherspoon, Seth Ma...</td>\n",
       "      <td>2016</td>\n",
       "      <td>108</td>\n",
       "      <td>7.2</td>\n",
       "      <td>60545</td>\n",
       "      <td>270.32</td>\n",
       "      <td>59.0</td>\n",
       "    </tr>\n",
       "    <tr>\n",
       "      <th>4</th>\n",
       "      <td>5</td>\n",
       "      <td>Suicide Squad</td>\n",
       "      <td>Action,Adventure,Fantasy</td>\n",
       "      <td>A secret government agency recruits some of th...</td>\n",
       "      <td>David Ayer</td>\n",
       "      <td>Will Smith, Jared Leto, Margot Robbie, Viola D...</td>\n",
       "      <td>2016</td>\n",
       "      <td>123</td>\n",
       "      <td>6.2</td>\n",
       "      <td>393727</td>\n",
       "      <td>325.02</td>\n",
       "      <td>40.0</td>\n",
       "    </tr>\n",
       "    <tr>\n",
       "      <th>...</th>\n",
       "      <td>...</td>\n",
       "      <td>...</td>\n",
       "      <td>...</td>\n",
       "      <td>...</td>\n",
       "      <td>...</td>\n",
       "      <td>...</td>\n",
       "      <td>...</td>\n",
       "      <td>...</td>\n",
       "      <td>...</td>\n",
       "      <td>...</td>\n",
       "      <td>...</td>\n",
       "      <td>...</td>\n",
       "    </tr>\n",
       "    <tr>\n",
       "      <th>995</th>\n",
       "      <td>996</td>\n",
       "      <td>Secret in Their Eyes</td>\n",
       "      <td>Crime,Drama,Mystery</td>\n",
       "      <td>A tight-knit team of rising investigators, alo...</td>\n",
       "      <td>Billy Ray</td>\n",
       "      <td>Chiwetel Ejiofor, Nicole Kidman, Julia Roberts...</td>\n",
       "      <td>2015</td>\n",
       "      <td>111</td>\n",
       "      <td>6.2</td>\n",
       "      <td>27585</td>\n",
       "      <td>NaN</td>\n",
       "      <td>45.0</td>\n",
       "    </tr>\n",
       "    <tr>\n",
       "      <th>996</th>\n",
       "      <td>997</td>\n",
       "      <td>Hostel: Part II</td>\n",
       "      <td>Horror</td>\n",
       "      <td>Three American college students studying abroa...</td>\n",
       "      <td>Eli Roth</td>\n",
       "      <td>Lauren German, Heather Matarazzo, Bijou Philli...</td>\n",
       "      <td>2007</td>\n",
       "      <td>94</td>\n",
       "      <td>5.5</td>\n",
       "      <td>73152</td>\n",
       "      <td>17.54</td>\n",
       "      <td>46.0</td>\n",
       "    </tr>\n",
       "    <tr>\n",
       "      <th>997</th>\n",
       "      <td>998</td>\n",
       "      <td>Step Up 2: The Streets</td>\n",
       "      <td>Drama,Music,Romance</td>\n",
       "      <td>Romantic sparks occur between two dance studen...</td>\n",
       "      <td>Jon M. Chu</td>\n",
       "      <td>Robert Hoffman, Briana Evigan, Cassie Ventura,...</td>\n",
       "      <td>2008</td>\n",
       "      <td>98</td>\n",
       "      <td>6.2</td>\n",
       "      <td>70699</td>\n",
       "      <td>58.01</td>\n",
       "      <td>50.0</td>\n",
       "    </tr>\n",
       "    <tr>\n",
       "      <th>998</th>\n",
       "      <td>999</td>\n",
       "      <td>Search Party</td>\n",
       "      <td>Adventure,Comedy</td>\n",
       "      <td>A pair of friends embark on a mission to reuni...</td>\n",
       "      <td>Scot Armstrong</td>\n",
       "      <td>Adam Pally, T.J. Miller, Thomas Middleditch,Sh...</td>\n",
       "      <td>2014</td>\n",
       "      <td>93</td>\n",
       "      <td>5.6</td>\n",
       "      <td>4881</td>\n",
       "      <td>NaN</td>\n",
       "      <td>22.0</td>\n",
       "    </tr>\n",
       "    <tr>\n",
       "      <th>999</th>\n",
       "      <td>1000</td>\n",
       "      <td>Nine Lives</td>\n",
       "      <td>Comedy,Family,Fantasy</td>\n",
       "      <td>A stuffy businessman finds himself trapped ins...</td>\n",
       "      <td>Barry Sonnenfeld</td>\n",
       "      <td>Kevin Spacey, Jennifer Garner, Robbie Amell,Ch...</td>\n",
       "      <td>2016</td>\n",
       "      <td>87</td>\n",
       "      <td>5.3</td>\n",
       "      <td>12435</td>\n",
       "      <td>19.64</td>\n",
       "      <td>11.0</td>\n",
       "    </tr>\n",
       "  </tbody>\n",
       "</table>\n",
       "<p>1000 rows × 12 columns</p>\n",
       "</div>"
      ],
      "text/plain": [
       "     Rank                    Title                     Genre  \\\n",
       "0       1  Guardians of the Galaxy   Action,Adventure,Sci-Fi   \n",
       "1       2               Prometheus  Adventure,Mystery,Sci-Fi   \n",
       "2       3                    Split           Horror,Thriller   \n",
       "3       4                     Sing   Animation,Comedy,Family   \n",
       "4       5            Suicide Squad  Action,Adventure,Fantasy   \n",
       "..    ...                      ...                       ...   \n",
       "995   996     Secret in Their Eyes       Crime,Drama,Mystery   \n",
       "996   997          Hostel: Part II                    Horror   \n",
       "997   998   Step Up 2: The Streets       Drama,Music,Romance   \n",
       "998   999             Search Party          Adventure,Comedy   \n",
       "999  1000               Nine Lives     Comedy,Family,Fantasy   \n",
       "\n",
       "                                           Description              Director  \\\n",
       "0    A group of intergalactic criminals are forced ...            James Gunn   \n",
       "1    Following clues to the origin of mankind, a te...          Ridley Scott   \n",
       "2    Three girls are kidnapped by a man with a diag...    M. Night Shyamalan   \n",
       "3    In a city of humanoid animals, a hustling thea...  Christophe Lourdelet   \n",
       "4    A secret government agency recruits some of th...            David Ayer   \n",
       "..                                                 ...                   ...   \n",
       "995  A tight-knit team of rising investigators, alo...             Billy Ray   \n",
       "996  Three American college students studying abroa...              Eli Roth   \n",
       "997  Romantic sparks occur between two dance studen...            Jon M. Chu   \n",
       "998  A pair of friends embark on a mission to reuni...        Scot Armstrong   \n",
       "999  A stuffy businessman finds himself trapped ins...      Barry Sonnenfeld   \n",
       "\n",
       "                                                Actors  Year  \\\n",
       "0    Chris Pratt, Vin Diesel, Bradley Cooper, Zoe S...  2014   \n",
       "1    Noomi Rapace, Logan Marshall-Green, Michael Fa...  2012   \n",
       "2    James McAvoy, Anya Taylor-Joy, Haley Lu Richar...  2016   \n",
       "3    Matthew McConaughey,Reese Witherspoon, Seth Ma...  2016   \n",
       "4    Will Smith, Jared Leto, Margot Robbie, Viola D...  2016   \n",
       "..                                                 ...   ...   \n",
       "995  Chiwetel Ejiofor, Nicole Kidman, Julia Roberts...  2015   \n",
       "996  Lauren German, Heather Matarazzo, Bijou Philli...  2007   \n",
       "997  Robert Hoffman, Briana Evigan, Cassie Ventura,...  2008   \n",
       "998  Adam Pally, T.J. Miller, Thomas Middleditch,Sh...  2014   \n",
       "999  Kevin Spacey, Jennifer Garner, Robbie Amell,Ch...  2016   \n",
       "\n",
       "     Runtime (Minutes)  Rating   Votes  Revenue (Millions)  Metascore  \n",
       "0                  121     8.1  757074              333.13       76.0  \n",
       "1                  124     7.0  485820              126.46       65.0  \n",
       "2                  117     7.3  157606              138.12       62.0  \n",
       "3                  108     7.2   60545              270.32       59.0  \n",
       "4                  123     6.2  393727              325.02       40.0  \n",
       "..                 ...     ...     ...                 ...        ...  \n",
       "995                111     6.2   27585                 NaN       45.0  \n",
       "996                 94     5.5   73152               17.54       46.0  \n",
       "997                 98     6.2   70699               58.01       50.0  \n",
       "998                 93     5.6    4881                 NaN       22.0  \n",
       "999                 87     5.3   12435               19.64       11.0  \n",
       "\n",
       "[1000 rows x 12 columns]"
      ]
     },
     "execution_count": 311,
     "metadata": {},
     "output_type": "execute_result"
    }
   ],
   "source": [
    "mainDF = df\n",
    "mainDF"
   ]
  },
  {
   "cell_type": "code",
   "execution_count": 312,
   "metadata": {},
   "outputs": [
    {
     "data": {
      "text/plain": [
       "0                James Gunn\n",
       "1              Ridley Scott\n",
       "2        M. Night Shyamalan\n",
       "3      Christophe Lourdelet\n",
       "4                David Ayer\n",
       "               ...         \n",
       "995               Billy Ray\n",
       "996                Eli Roth\n",
       "997              Jon M. Chu\n",
       "998          Scot Armstrong\n",
       "999        Barry Sonnenfeld\n",
       "Name: Director, Length: 1000, dtype: object"
      ]
     },
     "execution_count": 312,
     "metadata": {},
     "output_type": "execute_result"
    }
   ],
   "source": [
    "mainDF['Director']"
   ]
  },
  {
   "cell_type": "code",
   "execution_count": 313,
   "metadata": {},
   "outputs": [],
   "source": [
    "def sumDict(series):\n",
    "    return  series.to_dict()"
   ]
  },
  {
   "cell_type": "code",
   "execution_count": 314,
   "metadata": {},
   "outputs": [],
   "source": [
    "def calNameLength(series):\n",
    "    temp_str = list(series)[0]\n",
    "    name_length = len(temp_str) - temp_str.count(' ') #使用了string的计算某个字符的次数功能\n",
    "    return name_length"
   ]
  },
  {
   "cell_type": "code",
   "execution_count": 315,
   "metadata": {},
   "outputs": [],
   "source": [
    "def calMovieNum(series):\n",
    "    movieNum = len(series['Title'])\n",
    "    return movieNum"
   ]
  },
  {
   "cell_type": "code",
   "execution_count": 316,
   "metadata": {},
   "outputs": [],
   "source": [
    "def cntGoodMovie(series, goodLevel = 8):\n",
    "    result = sum(series>=goodLevel)\n",
    "    return result"
   ]
  },
  {
   "cell_type": "code",
   "execution_count": 317,
   "metadata": {},
   "outputs": [],
   "source": [
    "def cntRubbishMovie(series, rubbiLevel = 6):\n",
    "    return sum(series<rubbiLevel)"
   ]
  },
  {
   "cell_type": "code",
   "execution_count": 319,
   "metadata": {},
   "outputs": [],
   "source": [
    "maxRatingDF = mainDF.groupby('Director')['Rating'].aggregate('max')\n",
    "minRatingDF =  mainDF.groupby('Director')['Rating'].agg('min')"
   ]
  },
  {
   "cell_type": "code",
   "execution_count": 320,
   "metadata": {},
   "outputs": [
    {
     "data": {
      "text/plain": [
       "Director\n",
       "Aamir Khan              9\n",
       "Abdellatif Kechiche    18\n",
       "Adam Leon               8\n",
       "Adam McKay              9\n",
       "Adam Shankman          12\n",
       "                       ..\n",
       "Xavier Dolan           11\n",
       "Yimou Zhang            10\n",
       "Yorgos Lanthimos       15\n",
       "Zack Snyder            10\n",
       "Zackary Adler          12\n",
       "Name: Director, Length: 644, dtype: int64"
      ]
     },
     "execution_count": 320,
     "metadata": {},
     "output_type": "execute_result"
    }
   ],
   "source": [
    "#计算姓名长度\n",
    "nameLenDF = mainDF.groupby('Director')['Director'].apply(calNameLength)\n",
    "nameLenDF"
   ]
  },
  {
   "cell_type": "code",
   "execution_count": 321,
   "metadata": {},
   "outputs": [
    {
     "data": {
      "text/plain": [
       "Director\n",
       "Aamir Khan             1\n",
       "Abdellatif Kechiche    1\n",
       "Adam Leon              1\n",
       "Adam McKay             4\n",
       "Adam Shankman          2\n",
       "                      ..\n",
       "Xavier Dolan           2\n",
       "Yimou Zhang            1\n",
       "Yorgos Lanthimos       2\n",
       "Zack Snyder            5\n",
       "Zackary Adler          1\n",
       "Length: 644, dtype: int64"
      ]
     },
     "execution_count": 321,
     "metadata": {},
     "output_type": "execute_result"
    }
   ],
   "source": [
    "#计算导片数量\n",
    "movieNumDF = mainDF.groupby('Director').apply(calMovieNum)\n",
    "movieNumDF"
   ]
  },
  {
   "cell_type": "code",
   "execution_count": 322,
   "metadata": {},
   "outputs": [
    {
     "data": {
      "text/plain": [
       "5"
      ]
     },
     "execution_count": 322,
     "metadata": {},
     "output_type": "execute_result"
    }
   ],
   "source": [
    "#计算佳片数\n",
    "cnt_goodMovieSeries = mainDF.groupby('Director')['Rating'].apply(cntGoodMovie, (8, ))\n",
    "cnt_goodMovieSeries['Christopher Nolan']"
   ]
  },
  {
   "cell_type": "code",
   "execution_count": 323,
   "metadata": {},
   "outputs": [
    {
     "data": {
      "text/plain": [
       "Director\n",
       "Aamir Khan             0\n",
       "Abdellatif Kechiche    0\n",
       "Adam Leon              0\n",
       "Adam McKay             0\n",
       "Adam Shankman          1\n",
       "                      ..\n",
       "Xavier Dolan           0\n",
       "Yimou Zhang            0\n",
       "Yorgos Lanthimos       0\n",
       "Zack Snyder            0\n",
       "Zackary Adler          1\n",
       "Name: Rating, Length: 644, dtype: int64"
      ]
     },
     "execution_count": 323,
     "metadata": {},
     "output_type": "execute_result"
    }
   ],
   "source": [
    "#计算烂片数\n",
    "cnt_badMovieSeries = mainDF.groupby('Director')['Rating'].apply(cntRubbishMovie, (6,)) #传入指定的划分标准\n",
    "cnt_badMovieSeries"
   ]
  },
  {
   "cell_type": "code",
   "execution_count": 428,
   "metadata": {},
   "outputs": [],
   "source": [
    "def findGenre(series):\n",
    "    genre = []\n",
    "    for i in range(len(series)):\n",
    "        genre += series[i]\n",
    "    genreSet = set(genre)\n",
    "    genreIter = list(genreSet)\n",
    "    genreNum = {}\n",
    "    for j in range(len(genreIter)):\n",
    "        genreNum[genreIter[j]] = genre.count(genreIter[j])\n",
    "        \n",
    "    return genreNum;"
   ]
  },
  {
   "cell_type": "code",
   "execution_count": 430,
   "metadata": {},
   "outputs": [
    {
     "data": {
      "text/plain": [
       "{'Thriller': 195,\n",
       " 'Musical': 5,\n",
       " 'Adventure': 259,\n",
       " 'Western': 7,\n",
       " 'Horror': 119,\n",
       " 'Animation': 49,\n",
       " 'Family': 51,\n",
       " 'War': 13,\n",
       " 'Drama': 513,\n",
       " 'Crime': 150,\n",
       " 'Comedy': 279,\n",
       " 'Mystery': 106,\n",
       " 'Sport': 18,\n",
       " 'Music': 16,\n",
       " 'Action': 303,\n",
       " 'Sci-Fi': 120,\n",
       " 'Fantasy': 101,\n",
       " 'Biography': 81,\n",
       " 'Romance': 141,\n",
       " 'History': 29}"
      ]
     },
     "execution_count": 430,
     "metadata": {},
     "output_type": "execute_result"
    },
    {
     "data": {
      "text/plain": [
       "20"
      ]
     },
     "execution_count": 430,
     "metadata": {},
     "output_type": "execute_result"
    }
   ],
   "source": [
    "#计算影片类型\n",
    "genreSeries = mainDF['Genre']\n",
    "genreSummary = findGenre(genreSeries)\n",
    "genreSummary\n",
    "len(genreSummary.keys())"
   ]
  },
  {
   "cell_type": "code",
   "execution_count": 541,
   "metadata": {},
   "outputs": [],
   "source": [
    "def directorGenre(series):#只显示前三种风格\n",
    "    genre = []\n",
    "    for i in range(len(series)):\n",
    "        genre += series.values[i]\n",
    "    genreSet = set(genre)\n",
    "    genreIter = list(genreSet)\n",
    "    genreNum = {}\n",
    "    for j in range(len(genreIter)):\n",
    "        genreNum[genreIter[j]] = genre.count(genreIter[j])\n",
    "    resultNum = sorted(genreNum.items(), key = lambda x:x[1], reverse= True)#按照键值大小降序排列\n",
    "    return resultNum"
   ]
  },
  {
   "cell_type": "code",
   "execution_count": 544,
   "metadata": {},
   "outputs": [
    {
     "data": {
      "text/plain": [
       "Director\n",
       "Aamir Khan                         [(Music, 1), (Drama, 1), (Family, 1)]\n",
       "Abdellatif Kechiche                           [(Drama, 1), (Romance, 1)]\n",
       "Adam Leon                                    [(Comedy, 1), (Romance, 1)]\n",
       "Adam McKay             [(Comedy, 4), (Action, 2), (Drama, 1), (Crime,...\n",
       "Adam Shankman          [(Drama, 2), (Comedy, 2), (Musical, 1), (Famil...\n",
       "                                             ...                        \n",
       "Xavier Dolan                                                [(Drama, 2)]\n",
       "Yimou Zhang                  [(Fantasy, 1), (Adventure, 1), (Action, 1)]\n",
       "Yorgos Lanthimos       [(Drama, 2), (Thriller, 1), (Comedy, 1), (Roma...\n",
       "Zack Snyder            [(Action, 5), (Fantasy, 3), (Adventure, 2), (D...\n",
       "Zackary Adler                                   [(Crime, 1), (Drama, 1)]\n",
       "Name: Genre, Length: 644, dtype: object"
      ]
     },
     "execution_count": 544,
     "metadata": {},
     "output_type": "execute_result"
    }
   ],
   "source": [
    "test = mainDF.groupby('Director')['Genre'].apply(directorGenre)\n",
    "temp = pd.DataFrame(test)\n",
    "temp['good'] = movieNumDF\n",
    "temp['Genre']"
   ]
  },
  {
   "cell_type": "code",
   "execution_count": 494,
   "metadata": {},
   "outputs": [
    {
     "data": {
      "text/plain": [
       "{'Thriller': 195,\n",
       " 'Musical': 5,\n",
       " 'Adventure': 259,\n",
       " 'Western': 7,\n",
       " 'Horror': 119,\n",
       " 'Animation': 49,\n",
       " 'Family': 51,\n",
       " 'War': 13,\n",
       " 'Drama': 513,\n",
       " 'Crime': 150,\n",
       " 'Comedy': 279,\n",
       " 'Mystery': 106,\n",
       " 'Sport': 18,\n",
       " 'Music': 16,\n",
       " 'Action': 303,\n",
       " 'Sci-Fi': 120,\n",
       " 'Fantasy': 101,\n",
       " 'Biography': 81,\n",
       " 'Romance': 141,\n",
       " 'History': 29}"
      ]
     },
     "execution_count": 494,
     "metadata": {},
     "output_type": "execute_result"
    },
    {
     "data": {
      "text/plain": [
       "dict_values([195, 5, 259, 7, 119, 49, 51, 13, 513, 150, 279, 106, 18, 16, 303, 120, 101, 81, 141, 29])"
      ]
     },
     "execution_count": 494,
     "metadata": {},
     "output_type": "execute_result"
    }
   ],
   "source": [
    "genreSummary\n",
    "genreSummary.values()"
   ]
  },
  {
   "cell_type": "code",
   "execution_count": null,
   "metadata": {},
   "outputs": [],
   "source": [
    "def directorGenre(series):#只显示前三种风格\n",
    "    genre = []\n",
    "    for i in range(len(series)):\n",
    "        genre += series.values[i]\n",
    "    genreSet = set(genre)\n",
    "    genreIter = list(genreSet)\n",
    "    genreNum = {}\n",
    "    for j in range(len(genreIter)):\n",
    "        genreNum[genreIter[j]] = genre.count(genreIter[j])\n",
    "    resultNum = sorted(genreNum.items(), key = lambda x:x[1], reverse= True)#按照键值大小降序排列\n",
    "    return resultNum"
   ]
  },
  {
   "cell_type": "code",
   "execution_count": 563,
   "metadata": {},
   "outputs": [],
   "source": [
    "#汇总导演的导片信息：片名、评分\n",
    "def movieInfo(series):\n",
    "    movieList = []\n",
    "    for i in range(len(series)):\n",
    "        movieList += series.values[i]\n",
    "        \n",
    "    return movieList"
   ]
  },
  {
   "cell_type": "code",
   "execution_count": 564,
   "metadata": {},
   "outputs": [
    {
     "data": {
      "text/plain": [
       "Director\n",
       "Aamir Khan              [T, a, a, r, e,  , Z, a, m, e, e, n,  , P, a, r]\n",
       "Abdellatif Kechiche           [L, a,  , v, i, e,  , d, ', A, d, è, l, e]\n",
       "Adam Leon                                             [T, r, a, m, p, s]\n",
       "Adam McKay             [T, h, e,  , B, i, g,  , S, h, o, r, t, S, t, ...\n",
       "Adam Shankman          [H, a, i, r, s, p, r, a, y, R, o, c, k,  , o, ...\n",
       "                                             ...                        \n",
       "Xavier Dolan           [M, o, m, m, y, I, t, ', s,  , O, n, l, y,  , ...\n",
       "Yimou Zhang                   [T, h, e,  , G, r, e, a, t,  , W, a, l, l]\n",
       "Yorgos Lanthimos       [T, h, e,  , L, o, b, s, t, e, r, K, y, n, o, ...\n",
       "Zack Snyder            [B, a, t, m, a, n,  , v,  , S, u, p, e, r, m, ...\n",
       "Zackary Adler          [T, h, e,  , R, i, s, e,  , o, f,  , t, h, e, ...\n",
       "Name: Title, Length: 644, dtype: object"
      ]
     },
     "execution_count": 564,
     "metadata": {},
     "output_type": "execute_result"
    }
   ],
   "source": [
    "directoreMovieList = mainDF.groupby('Director')['Title'].apply(movieInfo)\n",
    "directoreMovieList"
   ]
  }
 ],
 "metadata": {
  "kernelspec": {
   "display_name": "Python 3",
   "language": "python",
   "name": "python3"
  },
  "language_info": {
   "codemirror_mode": {
    "name": "ipython",
    "version": 3
   },
   "file_extension": ".py",
   "mimetype": "text/x-python",
   "name": "python",
   "nbconvert_exporter": "python",
   "pygments_lexer": "ipython3",
   "version": "3.7.7"
  }
 },
 "nbformat": 4,
 "nbformat_minor": 4
}
